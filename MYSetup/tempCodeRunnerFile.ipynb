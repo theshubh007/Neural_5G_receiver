        neural_receiver=neural_receiver,
        num_epochs=100,
        batch_size=64,
        learning_rate=0.001,
    )